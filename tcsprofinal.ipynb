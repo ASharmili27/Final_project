{
 "cells": [
  {
   "cell_type": "code",
   "execution_count": 2,
   "id": "c9f97649",
   "metadata": {},
   "outputs": [
    {
     "name": "stdout",
     "output_type": "stream",
     "text": [
      "Enter your message: #mOVEon\n",
      "Enter your key: 27\n",
      "*****The Encrypton process*****\n",
      "G1PWF32\n",
      "Encrypted data stored in file\n",
      "The content in the file is\n",
      " G1PWF32\n",
      "*****The decryption process*****\n",
      "#m+6@on\n"
     ]
    }
   ],
   "source": [
    "LETTERS = 'abcdefghijklmnopqrstuvwxyz!@#$%^&*()_+=1234567890ABCDEFGHIJKLMNOPQRSTUVWXYZABCDEFGHIJKLMNOPQRSTUVWXYZ'\n",
    "\n",
    "    \n",
    "def encrypt(message, key):\n",
    "    encrypted = ''\n",
    "    for chars in message:\n",
    "        if chars in LETTERS:\n",
    "            num = LETTERS.find(chars)\n",
    "            num += key\n",
    "            encrypted += LETTERS[num]\n",
    "    return encrypted\n",
    "\n",
    "\n",
    "def decrypt(message, key):\n",
    "    decrypted = ''\n",
    "    for chars in message:\n",
    "        if chars in LETTERS:\n",
    "            num = LETTERS.find(chars)\n",
    "            num -= key    \n",
    "            decrypted += LETTERS[num]\n",
    "    return decrypted\n",
    "def main():\n",
    "    message = str(input(\"Enter your message: \"))\n",
    "    key = int(input(\"Enter your key: \"))\n",
    "    print(\"*****The Encrypton process*****\")\n",
    "    print(encrypt(message, key))\n",
    "    with open(\"encrypt_data.txt\", \"w\") as out_file:\n",
    "        encrypt_string = \"\"\n",
    "        encrypt_string += \" \" + str(encrypt(message, key))\n",
    "        out_file.write(encrypt_string)\n",
    "    print(\"Encrypted data stored in file\")\n",
    "    with open(\"encrypt_data.txt\") as f:\n",
    "        contents = f.read()\n",
    "        print(\"The content in the file is\")\n",
    "        print(contents)\n",
    "        print(\"*****The decryption process*****\")\n",
    "        print(decrypt(contents, key))\n",
    "        \n",
    "\n",
    "if __name__ == '__main__':\n",
    "    main()"
   ]
  },
  {
   "cell_type": "code",
   "execution_count": 3,
   "id": "8221537c",
   "metadata": {},
   "outputs": [
    {
     "name": "stdout",
     "output_type": "stream",
     "text": [
      "Enter the data to be encrypted:#mOVEon\n",
      "***** Encryption process******\n",
      "After encryption :  b'gAAAAABjRuQRrnIMVwqtZOJiNb2KrMt1zlLPpvZJXbHHvCyOGtP_cyT1p9vNdB1jYGxvSXSz7gfuWGZmi0FPiOxKUQySE1764Q=='\n",
      "*****Admin page*******\n",
      "*****Decryption Process*******\n",
      "Enter Your Username : admin\n",
      "Invalid user\n"
     ]
    }
   ],
   "source": [
    "from cryptography.fernet import Fernet\n",
    "database = {\"ADMIN\": \"27122###\"}\n",
    "key = Fernet.generate_key()\n",
    "f = Fernet(key)\n",
    "m = str(input(\"Enter the data to be encrypted:\"))\n",
    "encoded = m.encode()\n",
    "encrypted_data = f.encrypt(encoded)\n",
    "print(\"***** Encryption process******\")\n",
    "print(\"After encryption : \", encrypted_data)\n",
    "print(\"*****Admin page*******\")\n",
    "print(\"*****Decryption Process*******\")\n",
    "username = str(input(\"Enter Your Username : \"))\n",
    "for i in database.keys():\n",
    "    if username != i:\n",
    "        print(\"Invalid user\")\n",
    "    else:\n",
    "        password = input(\"Enter Your Password : \")\n",
    "        if password != database.get(i):\n",
    "            print(\"Password  incorrect\")\n",
    "        else:\n",
    "            print(\"Credentials authenticated\")\n",
    "            decrypted_data = f.decrypt(encrypted_data)\n",
    "            original_msg = decrypted_data.decode()\n",
    "            print(\"After decryption : \", original_msg)"
   ]
  },
  {
   "cell_type": "code",
   "execution_count": 4,
   "id": "b31684d3",
   "metadata": {},
   "outputs": [
    {
     "name": "stdout",
     "output_type": "stream",
     "text": [
      "Enter the data to be encrypted:#mOVEon\n",
      "***** Encryption process******\n",
      "After encryption :  b'gAAAAABjRuQ4jDxZPi4kjoW4_C20atLto8o60hSIq1i-VmAl1Ci6NQNDVh7Lzu2pdWIEJfkWbLQD8aLHk7UhCF27RFe1G7cw3w=='\n",
      "*****Admin page*******\n",
      "*****Decryption Process*******\n",
      "Enter Your Username : ADMIN\n",
      "Enter Your Password : 12345##\n",
      "Password  incorrect\n"
     ]
    }
   ],
   "source": [
    "from cryptography.fernet import Fernet\n",
    "database = {\"ADMIN\": \"27122###\"}\n",
    "key = Fernet.generate_key()\n",
    "f = Fernet(key)\n",
    "m = str(input(\"Enter the data to be encrypted:\"))\n",
    "encoded = m.encode()\n",
    "encrypted_data = f.encrypt(encoded)\n",
    "print(\"***** Encryption process******\")\n",
    "print(\"After encryption : \", encrypted_data)\n",
    "print(\"*****Admin page*******\")\n",
    "print(\"*****Decryption Process*******\")\n",
    "username = str(input(\"Enter Your Username : \"))\n",
    "for i in database.keys():\n",
    "    if username != i:\n",
    "        print(\"Invalid user\")\n",
    "    else:\n",
    "        password = input(\"Enter Your Password : \")\n",
    "        if password != database.get(i):\n",
    "            print(\"Password  incorrect\")\n",
    "        else:\n",
    "            print(\"Credentials authenticated\")\n",
    "            decrypted_data = f.decrypt(encrypted_data)\n",
    "            original_msg = decrypted_data.decode()\n",
    "            print(\"After decryption : \", original_msg)"
   ]
  },
  {
   "cell_type": "code",
   "execution_count": 5,
   "id": "c587b602",
   "metadata": {},
   "outputs": [
    {
     "name": "stdout",
     "output_type": "stream",
     "text": [
      "Enter the data to be encrypted:#mOVEon\n",
      "***** Encryption process******\n",
      "After encryption :  b'gAAAAABjRuRZ7dKrKkdM-Ez8tHcgUki0Sm59HHVRlgXaIsGbRYNiQCZsF7YIVwcmooJXEZiIMYFmnIGQ5S7VZIxKt9Ze3ZL_gw=='\n",
      "*****Admin page*******\n",
      "*****Decryption Process*******\n",
      "Enter Your Username : ADMIN\n",
      "Enter Your Password : 27122###\n",
      "Credentials authenticated\n",
      "After decryption :  #mOVEon\n"
     ]
    }
   ],
   "source": [
    "from cryptography.fernet import Fernet\n",
    "database = {\"ADMIN\": \"27122###\"}\n",
    "key = Fernet.generate_key()\n",
    "f = Fernet(key)\n",
    "m = str(input(\"Enter the data to be encrypted:\"))\n",
    "encoded = m.encode()\n",
    "encrypted_data = f.encrypt(encoded)\n",
    "print(\"***** Encryption process******\")\n",
    "print(\"After encryption : \", encrypted_data)\n",
    "print(\"*****Admin page*******\")\n",
    "print(\"*****Decryption Process*******\")\n",
    "username = str(input(\"Enter Your Username : \"))\n",
    "for i in database.keys():\n",
    "    if username != i:\n",
    "        print(\"Invalid user\")\n",
    "    else:\n",
    "        password = input(\"Enter Your Password : \")\n",
    "        if password != database.get(i):\n",
    "            print(\"Password  incorrect\")\n",
    "        else:\n",
    "            print(\"Credentials authenticated\")\n",
    "            decrypted_data = f.decrypt(encrypted_data)\n",
    "            original_msg = decrypted_data.decode()\n",
    "            print(\"After decryption : \", original_msg)"
   ]
  },
  {
   "cell_type": "code",
   "execution_count": null,
   "id": "8c02558a",
   "metadata": {},
   "outputs": [],
   "source": []
  }
 ],
 "metadata": {
  "kernelspec": {
   "display_name": "Python 3 (ipykernel)",
   "language": "python",
   "name": "python3"
  },
  "language_info": {
   "codemirror_mode": {
    "name": "ipython",
    "version": 3
   },
   "file_extension": ".py",
   "mimetype": "text/x-python",
   "name": "python",
   "nbconvert_exporter": "python",
   "pygments_lexer": "ipython3",
   "version": "3.7.4"
  }
 },
 "nbformat": 4,
 "nbformat_minor": 5
}
